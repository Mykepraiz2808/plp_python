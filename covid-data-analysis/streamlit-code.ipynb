{
 "cells": [
  {
   "cell_type": "code",
   "execution_count": 3,
   "id": "ca2f7ff2-9e49-4397-8572-71e0d54b9572",
   "metadata": {},
   "outputs": [
    {
     "name": "stdout",
     "output_type": "stream",
     "text": [
      "Overwriting streamlit_app.py\n"
     ]
    }
   ],
   "source": [
    "%%writefile streamlit_app.py\n",
    "import streamlit as st\n",
    "import pandas as pd\n",
    "import matplotlib.pyplot as plt\n",
    "import seaborn as sns\n",
    "from wordcloud import WordCloud\n",
    "\n",
    "# Load data\n",
    "df = pd.read_csv(\"metadata.csv\")\n",
    "df = df.dropna(subset=[\"title\", \"publish_time\"]).copy()\n",
    "df[\"publish_time\"] = pd.to_datetime(df[\"publish_time\"], errors=\"coerce\")\n",
    "df[\"year\"] = df[\"publish_time\"].dt.year\n",
    "\n",
    "st.title(\"CORD-19 Data Explorer\")\n",
    "st.write(\"Simple exploration of COVID-19 research papers\")\n",
    "\n",
    "# Interactive year range\n",
    "year_range = st.slider(\"Select year range\", int(df[\"year\"].min()), int(df[\"year\"].max()), (2020, 2021))\n",
    "subset = df[(df[\"year\"] >= year_range[0]) & (df[\"year\"] <= year_range[1])]\n",
    "\n",
    "# Publications per year\n",
    "st.subheader(\"Publications by Year\")\n",
    "year_counts = subset[\"year\"].value_counts().sort_index()\n",
    "st.bar_chart(year_counts)\n",
    "\n",
    "# Top journals\n",
    "st.subheader(\"Top Journals\")\n",
    "top_journals = subset[\"journal\"].value_counts().head(10)\n",
    "st.bar_chart(top_journals)\n",
    "\n",
    "# Show sample data\n",
    "st.subheader(\"Sample Data\")\n",
    "st.write(subset.head())\n",
    "\n",
    "\n",
    "# Function to clean and extract words\n",
    "def get_title_words(titles):\n",
    "    words = []\n",
    "    for t in titles.dropna():\n",
    "        words.extend(re.findall(r\"\\b\\w+\\b\", t.lower()))\n",
    "    return words\n",
    "\n",
    "# Example: assuming you already have df loaded\n",
    "title_words = get_title_words(df[\"title\"])\n",
    "\n",
    "# Generate word cloud\n",
    "wordcloud = WordCloud(width=800, height=400, background_color=\"white\").generate(\" \".join(title_words))\n",
    "\n",
    "# Plot with matplotlib\n",
    "fig, ax = plt.subplots(figsize=(12, 6))\n",
    "ax.imshow(wordcloud, interpolation=\"bilinear\")\n",
    "ax.axis(\"off\")\n",
    "ax.set_title(\"Word Cloud of Paper Titles\")\n",
    "\n",
    "# Display in Streamlit\n",
    "st.subheader(\"Word Cloud of Titles\")\n",
    "st.pyplot(fig)\n",
    "\n"
   ]
  },
  {
   "cell_type": "code",
   "execution_count": null,
   "id": "f1282916-ca43-4d56-b7fc-e71bbfa39a73",
   "metadata": {},
   "outputs": [],
   "source": []
  }
 ],
 "metadata": {
  "kernelspec": {
   "display_name": "Python 3 (ipykernel)",
   "language": "python",
   "name": "python3"
  },
  "language_info": {
   "codemirror_mode": {
    "name": "ipython",
    "version": 3
   },
   "file_extension": ".py",
   "mimetype": "text/x-python",
   "name": "python",
   "nbconvert_exporter": "python",
   "pygments_lexer": "ipython3",
   "version": "3.12.7"
  }
 },
 "nbformat": 4,
 "nbformat_minor": 5
}
